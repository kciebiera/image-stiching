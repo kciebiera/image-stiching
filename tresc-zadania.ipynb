{
 "cells": [
  {
   "cell_type": "markdown",
   "metadata": {},
   "source": [
    "\n",
    "In this assignment we are going to make panorama of two photos. It is called image stitching and you can read about in on Wikipedia: https://en.wikipedia.org/wiki/Image_stitching.\n",
    "\n",
    "Example photos are available at Task 1 and the result is available at Task 9.\n",
    "\n",
    "Although there are multiple implementation of image stitching using different libraries (OpenCV, skimage, ...) you should implement it using only `numpy` and `matplotlib` for displaying images.\n",
    "\n",
    "You should write your own implementation of projective transformation fitting (using `numpy`) and of RANSAC."
   ]
  },
  {
   "cell_type": "markdown",
   "metadata": {},
   "source": [
    "# Task 1:\n",
    "\n",
    "\n",
    "Take two photos and un-distort it. There should be \n",
    "rather big overlap (60% is ok) between those photos. \n",
    "\n",
    "In my case I will use (undistorted):\n",
    "\n",
    "![](zdjecie_lewe.jpg)\n",
    "\n",
    "and\n",
    "\n",
    "![](zdjecie_prawe.jpg)"
   ]
  },
  {
   "cell_type": "markdown",
   "metadata": {},
   "source": [
    "# Task 2:\n",
    "\n",
    "Write a program, that apply projection transformation to a given image and displays both original image and transformed image.\n",
    "\n",
    "**What projective transformation does**\n",
    "\n",
    "(https://scikit-image.org/docs/stable/api/skimage.transform.html#skimage.transform.ProjectiveTransform)\n",
    "\n",
    "For each homogeneous coordinate $𝐱=[𝑥,𝑦,1]^𝑇$, its target position is calculated by multiplying with the given matrix, 𝐻, to give 𝐻𝐱\n",
    "\n",
    "```\n",
    "[[a0 a1 a2]\n",
    " [b0 b1 b2]\n",
    " [c0 c1 1 ]].\n",
    "```\n",
    "\n",
    "E.g., to rotate by theta degrees clockwise, the matrix should be:\n",
    "\n",
    "```\n",
    "[[cos(theta) -sin(theta) 0]\n",
    " [sin(theta)  cos(theta) 0]\n",
    " [0            0         1]]\n",
    "```\n",
    "\n",
    "or, to translate x by 10 and y by 20:\n",
    "\n",
    "```\n",
    "[[1 0 10]\n",
    " [0 1 20]\n",
    " [0 0 1 ]].\n",
    "```\n",
    "\n",
    "\n"
   ]
  },
  {
   "cell_type": "code",
   "execution_count": 1,
   "metadata": {},
   "outputs": [],
   "source": [
    "# TODO: your code goes here"
   ]
  },
  {
   "cell_type": "markdown",
   "metadata": {},
   "source": [
    "Example:\n",
    "\n",
    "![alt text](transformed.png \"Transformed\")"
   ]
  },
  {
   "cell_type": "markdown",
   "metadata": {},
   "source": [
    "# Task 3:\n",
    "\n",
    "We are going to use least-square method in order to find good fitting projective transformation based on pairs of matching points at different photos.\n",
    "As a warm up let's solve a simple example:\n",
    "\n",
    "Using https://numpy.org/doc/stable/reference/generated/numpy.linalg.lstsq.html fit a plane $z = ax + by + c$ to the following data points:\n",
    "\n",
    "```\n",
    "x y z\n",
    "0 1 2.5\n",
    "1 2 2.5\n",
    "2 3 4\n",
    "3 4 6\n",
    "```\n",
    "<details>\n",
    "<summary>Hint</summary>\n",
    "my result is [0.4 , 1.05, 0.65]\n",
    "</details>"
   ]
  },
  {
   "cell_type": "code",
   "execution_count": null,
   "metadata": {},
   "outputs": [],
   "source": [
    "# your code goes here"
   ]
  },
  {
   "cell_type": "markdown",
   "metadata": {},
   "source": [
    "# Task 4:\n",
    "\n",
    "Using `linalg.lstsq` write a program that finds a projective transformation based on sequence of matching point coordinates.\n",
    "\n",
    "The projective transformation is defined as:\n",
    "\n",
    "```\n",
    "X = (a0*x + a1*y + a2) / (c0*x + c1*y + 1)\n",
    "Y = (b0*x + b1*y + b2) / (c0*x + c1*y + 1)\n",
    "```\n",
    "\n",
    "These equations can be transformed to the following form:\n",
    "\n",
    "```\n",
    "0 = a0*x + a1*y + a2 - c0*x*X - c1*y*X - X\n",
    "0 = b0*x + b1*y + b2 - c0*x*Y - c1*y*Y - Y\n",
    "```\n",
    "\n",
    "which exist for each set of corresponding points, so we have a set of N * 2 equations. The coefficients appear linearly so we can write A x = 0, where:\n",
    "\n",
    "```\n",
    "A   = [[x y 1 0 0 0 -x*X -y*X -X]\n",
    "       [0 0 0 x y 1 -x*Y -y*Y -Y]\n",
    "        ...\n",
    "        ...\n",
    "      ]\n",
    "x.T = [a0 a1 a2 b0 b1 b2 c0 c1 c3]\n",
    "```\n",
    "\n",
    "In case of total least-squares the solution of this homogeneous system of equations is the right singular vector of A which corresponds to the smallest singular value normed by the coefficient c3.\n",
    "\n",
    "Weights can be applied to each pair of corresponding points to indicate, particularly in an overdetermined system, if point pairs have higher or lower confidence or uncertainties associated with them. From the matrix treatment of least squares problems, these weight values are normalised, square-rooted, then built into a diagonal matrix, by which A is multiplied.\n",
    "\n",
    "In case of the affine transformation the coefficients c0 and c1 are 0. Thus the system of equations is:\n",
    "\n",
    "```\n",
    "A   = [[x y 1 0 0 0 -X]\n",
    "       [0 0 0 x y 1 -Y]\n",
    "        ...\n",
    "        ...\n",
    "      ]\n",
    "x.T = [a0 a1 a2 b0 b1 b2 c3]\n",
    "```\n"
   ]
  },
  {
   "cell_type": "code",
   "execution_count": 2,
   "metadata": {},
   "outputs": [],
   "source": [
    "# TODO: your code goes here"
   ]
  },
  {
   "cell_type": "markdown",
   "metadata": {},
   "source": [
    "# Task 5:\n",
    "\n",
    "Find 2D coordinates of a few (five is ok) points that are visible on both photos by hand. Using those coordinates as a ground truth find a projective transformation between right and left photo using results of previous task.\n",
    "\n",
    "Example result:\n",
    "\n",
    "```\n",
    "[[ 8.72296732e-01,  7.44604383e-02, -2.37149377e+02],\n",
    " [-8.70238284e-02,  9.30801124e-01,  2.64244035e+00],\n",
    " [-1.00727635e-04,  4.18465424e-05,  1.00000000e+00]]\n",
    "```"
   ]
  },
  {
   "cell_type": "code",
   "execution_count": null,
   "metadata": {},
   "outputs": [],
   "source": [
    "# TODO: your code goes here"
   ]
  },
  {
   "cell_type": "markdown",
   "metadata": {},
   "source": [
    "# Task 6:\n",
    "\n",
    "Using the projective transformation you have already found stitch two photos into one. In order to do so:\n",
    "\n",
    "1. Keep one (in example we keep the right) of images unchanged as base, transform the left image using found transformation.\n",
    "2. Make a new image and put both images into this image.\n",
    "3. On area overlaping set point colors as weighted average of corresponding pixel (weight can be based on distance from left and right sides of overlapping areas) \n",
    "\n",
    "Results should be similar to results of Task 9."
   ]
  },
  {
   "cell_type": "code",
   "execution_count": null,
   "metadata": {},
   "outputs": [],
   "source": [
    "# TODO: your code goes here"
   ]
  },
  {
   "cell_type": "markdown",
   "metadata": {},
   "source": [
    "# Task 7\n",
    "\n",
    "Now the crazy part. \n",
    "\n",
    "So far we have matched points on two photos by hand. It is neither convenient nor useful.\n",
    "There are many methods of matching points on images. SIFT, SURF and ORB (https://scikit-image.org/docs/stable/api/skimage.feature.html#skimage.feature.ORB) are commonly used. However we want to use State Of The Art: SuperGlue.\n",
    "\n",
    "https://github.com/kciebiera/SuperGluePretrainedNetwork\n",
    "\n",
    "The repository comes with `./match_pairs.py` script, which allows to easily find matches.\n",
    "Find matches on your photos using `./match_pairs.py` script from SuperGlue repo.\n",
    "\n",
    "**This task may be harder than it seems. It works fine on Ubuntu 20.04.**\n",
    "\n",
    "Plot matches \n",
    "\n",
    "<details>\n",
    "<summary>Example</summary>\n",
    "\n",
    "![](result_matches.png)\n",
    "\n",
    "</details>"
   ]
  },
  {
   "cell_type": "code",
   "execution_count": 4,
   "metadata": {},
   "outputs": [],
   "source": [
    "# Your code goes here\n",
    "\n",
    "# HINT: there is an example code for reading matching pairs from a file in the repo"
   ]
  },
  {
   "cell_type": "markdown",
   "metadata": {},
   "source": [
    "# Task 8\n",
    "\n",
    "Some of the matches are incorrect. Get rid of those matches using RANSAC with projective transformation.\n",
    "\n",
    "Plot remaining matches \n",
    "\n",
    "<details>\n",
    "<summary>Example</summary>\n",
    "\n",
    "![](result_matches_filtered.png)\n",
    "\n",
    "</details>"
   ]
  },
  {
   "cell_type": "markdown",
   "metadata": {},
   "source": [
    "# Task 9\n",
    "\n",
    "Make panorama stitching from two photos (like in task 6) using SuperGlue as a matching method.\n",
    "\n",
    "![](result.png)"
   ]
  }
 ],
 "metadata": {
  "kernelspec": {
   "display_name": "Python 3.10.4 ('filipek')",
   "language": "python",
   "name": "python3"
  },
  "language_info": {
   "codemirror_mode": {
    "name": "ipython",
    "version": 3
   },
   "file_extension": ".py",
   "mimetype": "text/x-python",
   "name": "python",
   "nbconvert_exporter": "python",
   "pygments_lexer": "ipython3",
   "version": "3.10.4"
  },
  "vscode": {
   "interpreter": {
    "hash": "2fe35cdd6a0611f1597df865a20b3a98e9bc0b466568f85f6967e66375a51ef5"
   }
  }
 },
 "nbformat": 4,
 "nbformat_minor": 1
}
