{
 "cells": [
  {
   "cell_type": "markdown",
   "metadata": {},
   "source": [
    "# What projective transformation does\n",
    "\n",
    "(https://scikit-image.org/docs/stable/api/skimage.transform.html#skimage.transform.ProjectiveTransform)\n",
    "\n",
    "For each homogeneous coordinate $𝐱=[𝑥,𝑦,1]^𝑇$, its target position is calculated by multiplying with the given matrix, 𝐻, to give 𝐻𝐱\n",
    "\n",
    "```\n",
    "[[a0 a1 a2]\n",
    " [b0 b1 b2]\n",
    " [c0 c1 1 ]].\n",
    "```\n",
    "\n",
    "E.g., to rotate by theta degrees clockwise, the matrix should be:\n",
    "\n",
    "```\n",
    "[[cos(theta) -sin(theta) 0]\n",
    " [sin(theta)  cos(theta) 0]\n",
    " [0            0         1]]\n",
    "```\n",
    "\n",
    "or, to translate x by 10 and y by 20:\n",
    "\n",
    "```\n",
    "[[1 0 10]\n",
    " [0 1 20]\n",
    " [0 0 1 ]].\n",
    "```\n",
    "\n",
    "\n"
   ]
  },
  {
   "cell_type": "markdown",
   "metadata": {},
   "source": [
    "## Task 1:\n",
    "\n",
    "Write a program, that applays pojection transformation to a given image and displays both original image and \n",
    "transformed image."
   ]
  },
  {
   "cell_type": "code",
   "execution_count": 1,
   "metadata": {},
   "outputs": [],
   "source": [
    "# TODO: your code goes here"
   ]
  },
  {
   "cell_type": "markdown",
   "metadata": {},
   "source": [
    "Example:\n",
    "\n",
    "![alt text](transformed.png \"TRansformation\")"
   ]
  },
  {
   "cell_type": "markdown",
   "metadata": {},
   "source": [
    "## Task 2:\n",
    "\n",
    "We are going to use least-square method in order to find good fitting projective transformation based on pairs of matching points at different photos.\n",
    "As a warm up let's solve a simple example:\n",
    "\n",
    "Using https://numpy.org/doc/stable/reference/generated/numpy.linalg.lstsq.html fit a plane $z = ax + by + c$ to the following data points:\n",
    "\n",
    "```\n",
    "x y z\n",
    "0 1 2.5\n",
    "1 2 2.5\n",
    "2 3 4\n",
    "3 4 6\n",
    "```\n"
   ]
  },
  {
   "cell_type": "markdown",
   "metadata": {},
   "source": [
    "# Task 3:\n",
    "Write a program that finds a projective transformation based on sequence of point coordinates\n",
    "\n",
    "The projective transformation is defined as:\n",
    "\n",
    "```\n",
    "X = (a0*x + a1*y + a2) / (c0*x + c1*y + 1)\n",
    "Y = (b0*x + b1*y + b2) / (c0*x + c1*y + 1)\n",
    "```\n",
    "\n",
    "These equations can be transformed to the following form:\n",
    "\n",
    "```\n",
    "0 = a0*x + a1*y + a2 - c0*x*X - c1*y*X - X\n",
    "0 = b0*x + b1*y + b2 - c0*x*Y - c1*y*Y - Y\n",
    "```\n",
    "\n",
    "which exist for each set of corresponding points, so we have a set of N * 2 equations. The coefficients appear linearly so we can write A x = 0, where:\n",
    "\n",
    "```\n",
    "A   = [[x y 1 0 0 0 -x*X -y*X -X]\n",
    "       [0 0 0 x y 1 -x*Y -y*Y -Y]\n",
    "        ...\n",
    "        ...\n",
    "      ]\n",
    "x.T = [a0 a1 a2 b0 b1 b2 c0 c1 c3]\n",
    "```\n",
    "\n",
    "In case of total least-squares the solution of this homogeneous system of equations is the right singular vector of A which corresponds to the smallest singular value normed by the coefficient c3.\n",
    "\n",
    "Weights can be applied to each pair of corresponding points to indicate, particularly in an overdetermined system, if point pairs have higher or lower confidence or uncertainties associated with them. From the matrix treatment of least squares problems, these weight values are normalised, square-rooted, then built into a diagonal matrix, by which A is multiplied.\n",
    "\n",
    "In case of the affine transformation the coefficients c0 and c1 are 0. Thus the system of equations is:\n",
    "\n",
    "```\n",
    "A   = [[x y 1 0 0 0 -X]\n",
    "       [0 0 0 x y 1 -Y]\n",
    "        ...\n",
    "        ...\n",
    "      ]\n",
    "x.T = [a0 a1 a2 b0 b1 b2 c3]\n",
    "```\n"
   ]
  },
  {
   "cell_type": "markdown",
   "metadata": {},
   "source": [
    "Now as we know how images get transformed let's take two photos with the car cameras. There should be \n",
    "rather big overlap (60% is ok) between those photos.\n",
    "\n",
    "# Task 4:\n",
    "Take two photos and undistort it"
   ]
  },
  {
   "cell_type": "markdown",
   "metadata": {},
   "source": [
    "# Task 5:\n",
    "\n",
    "Mark a few (five is ok) points that are visible on both images by hand. Find a projective transformation between right and left photo."
   ]
  },
  {
   "cell_type": "markdown",
   "metadata": {},
   "source": [
    "# Task 6:\n",
    "\n",
    "Using the projective transormation you have already found stitch two photos into one. In order to do so:\n",
    "\n",
    "1. Keep one (in example we keep the right) of images unchanged as base, transform the left image using found transformation.\n",
    "2. Make a new image and put both images into this image.\n",
    "3. On area overlaping set point colors as weighted average of coresponding pixel (weight can be based on distance from left and right sides of overlapping areas) "
   ]
  },
  {
   "cell_type": "markdown",
   "metadata": {},
   "source": [
    "Now the crazy part. So far we have matched points on two photos by hand.\n",
    "It is neither convinient nor usefull.\n",
    "There are many methods of matching points on images. SIFT, SURF and ORB (https://scikit-image.org/docs/stable/api/skimage.feature.html#skimage.feature.ORB) are commonly used. However we want to use State Of The Art SuperGlue.\n",
    "\n",
    "https://github.com/kciebiera/SuperGluePretrainedNetwork\n",
    "\n",
    "The repository comes with `./match_pairs.py` script, which allows to easily find matches.\n",
    "\n",
    "# Task 7\n",
    "\n",
    "Find matches on your photos using `./match_pairs.py` script from SuperGlue repo.\n"
   ]
  },
  {
   "cell_type": "markdown",
   "metadata": {},
   "source": [
    "# Task 8\n",
    "\n",
    "Some of the maches are incorrect. Get rid of those matches using RANSAC with projective transformataion."
   ]
  },
  {
   "cell_type": "markdown",
   "metadata": {},
   "source": [
    "# Task 9\n",
    "\n",
    "Write a program, that can make panorama stiching from two photos (like in point 6) using SuperGlue as a matching method."
   ]
  }
 ],
 "metadata": {
  "kernelspec": {
   "display_name": "Python 3.10.4 ('filipek')",
   "language": "python",
   "name": "python3"
  },
  "language_info": {
   "codemirror_mode": {
    "name": "ipython",
    "version": 3
   },
   "file_extension": ".py",
   "mimetype": "text/x-python",
   "name": "python",
   "nbconvert_exporter": "python",
   "pygments_lexer": "ipython3",
   "version": "3.10.4"
  },
  "vscode": {
   "interpreter": {
    "hash": "2fe35cdd6a0611f1597df865a20b3a98e9bc0b466568f85f6967e66375a51ef5"
   }
  }
 },
 "nbformat": 4,
 "nbformat_minor": 1
}
